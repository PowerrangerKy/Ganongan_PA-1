{
 "cells": [
  {
   "cell_type": "markdown",
   "id": "dce729c3-71ba-4c95-ada4-9045b37ebbdf",
   "metadata": {},
   "source": [
    "## Alphabet Soup Problem"
   ]
  },
  {
   "cell_type": "code",
   "execution_count": 14,
   "id": "b1483de8-6a72-406b-98ff-f95b6bf9b672",
   "metadata": {},
   "outputs": [
    {
     "name": "stdout",
     "output_type": "stream",
     "text": [
      "ehllo\n",
      "acehkr\n"
     ]
    }
   ],
   "source": [
    "def alphabet_soup (s) :\n",
    "    #reorder the characters from the given string into alphabetical\n",
    "    print (\"\". join(sorted(s)))\n",
    "    \n",
    "#A functioning string is used.\n",
    "alphabet_soup(\"hello\")\n",
    "alphabet_soup(\"hacker\")"
   ]
  },
  {
   "cell_type": "markdown",
   "id": "87efafe3-4d1b-4bba-b006-79c49dcc6ef6",
   "metadata": {},
   "source": [
    "## Emoticon Problem"
   ]
  },
  {
   "cell_type": "code",
   "execution_count": 32,
   "id": "2947272c-6be8-4075-9014-a1c57c9a2f0e",
   "metadata": {},
   "outputs": [
    {
     "name": "stdout",
     "output_type": "stream",
     "text": [
      "i am :(\n",
      "i am >:( \n"
     ]
    }
   ],
   "source": [
    "def emotify(s):\n",
    "    #replace the word \"smile\" into an \":)\" emoji\n",
    "    s = s.replace (\"smile\", \":)\")\n",
    "    #replace the word \"grin\" into an \":D\" emoji\n",
    "    s = s.replace (\"grin\", \":D)\")\n",
    "    #replace the word \"sad\" into an \":(\" emoji\n",
    "    s = s.replace (\"sad\", \":(\")\n",
    "    #replace the word \"mad\" into an \">:(\" emoji\n",
    "    s = s.replace (\"mad\", \">:(\")\n",
    "    #return\n",
    "    return s\n",
    "    \n",
    "#Show what the emotify function has produced.\n",
    "print(emotify(\"i am sad\"))\n",
    "print(emotify(\"i am mad \"))"
   ]
  },
  {
   "cell_type": "markdown",
   "id": "260c7075-4c8f-4202-b739-04a4d23104d4",
   "metadata": {},
   "source": [
    "## Unpacking List Problem"
   ]
  },
  {
   "cell_type": "code",
   "execution_count": 60,
   "id": "4664d1c8-c484-4316-89bf-a0b7c7f8919f",
   "metadata": {},
   "outputs": [
    {
     "name": "stdout",
     "output_type": "stream",
     "text": [
      "first: 1, middle: [2, 3, 4, 5], last: 6\n"
     ]
    }
   ],
   "source": [
    "def unpack_list(Ist):\n",
    "    #extract the first element.\n",
    "    first = Ist[0]\n",
    "    #extract the last element.\n",
    "    last = Ist[-1]\n",
    "    #extract the middle element.\n",
    "    middle = Ist[1:-1]\n",
    "    #display the elements.\n",
    "    print(\"first: {}, middle: {}, last: {}\". format(first, middle, last))\n",
    "\n",
    "unpack_list (Ist = [1, 2, 3, 4, 5, 6])"
   ]
  },
  {
   "cell_type": "code",
   "execution_count": null,
   "id": "e5589e3e-cb2e-457e-be70-ba914520abb2",
   "metadata": {},
   "outputs": [],
   "source": []
  }
 ],
 "metadata": {
  "kernelspec": {
   "display_name": "Python 3 (ipykernel)",
   "language": "python",
   "name": "python3"
  },
  "language_info": {
   "codemirror_mode": {
    "name": "ipython",
    "version": 3
   },
   "file_extension": ".py",
   "mimetype": "text/x-python",
   "name": "python",
   "nbconvert_exporter": "python",
   "pygments_lexer": "ipython3",
   "version": "3.12.4"
  }
 },
 "nbformat": 4,
 "nbformat_minor": 5
}
